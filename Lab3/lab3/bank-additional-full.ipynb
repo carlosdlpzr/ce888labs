{
 "cells": [
  {
   "cell_type": "code",
   "execution_count": 56,
   "metadata": {},
   "outputs": [],
   "source": [
    "import matplotlib\n",
    "import pandas as pd\n",
    "import matplotlib.pyplot as plt\n",
    "import seaborn as sns\n",
    "import numpy as np\n",
    "import sklearn"
   ]
  },
  {
   "cell_type": "code",
   "execution_count": 53,
   "metadata": {},
   "outputs": [],
   "source": [
    "df = pd.read_csv('./bank-additional-full.csv', delimiter = ';')\n"
   ]
  },
  {
   "cell_type": "code",
   "execution_count": 54,
   "metadata": {},
   "outputs": [],
   "source": [
    "df_dummies = pd.get_dummies(df)\n",
    "\n",
    "del df_dummies['duration']\n",
    "del df_dummies['y_no']"
   ]
  },
  {
   "cell_type": "code",
   "execution_count": 58,
   "metadata": {},
   "outputs": [],
   "source": [
    "from sklearn.ensemble import ExtraTreesClassifier\n",
    "clf = ExtraTreesClassifier(n_estimators = 100)"
   ]
  },
  {
   "cell_type": "code",
   "execution_count": 79,
   "metadata": {},
   "outputs": [
    {
     "data": {
      "text/plain": [
       "<matplotlib.axes._subplots.AxesSubplot at 0x1f3eb01c358>"
      ]
     },
     "execution_count": 79,
     "metadata": {},
     "output_type": "execute_result"
    },
    {
     "data": {
      "image/png": "[encoded data removed]",
      "text/plain": [
       "<Figure size 432x288 with 1 Axes>"
      ]
     },
     "metadata": {},
     "output_type": "display_data"
    }
   ],
   "source": [
    "sns.distplot(df_dummies.y_yes, kde=False)"
   ]
  },
  {
   "cell_type": "code",
   "execution_count": 69,
   "metadata": {},
   "outputs": [
    {
     "data": {
      "text/plain": [
       "ExtraTreesClassifier(bootstrap=False, class_weight=None, criterion='gini',\n",
       "           max_depth=None, max_features='auto', max_leaf_nodes=None,\n",
       "           min_impurity_decrease=0.0, min_impurity_split=None,\n",
       "           min_samples_leaf=1, min_samples_split=2,\n",
       "           min_weight_fraction_leaf=0.0, n_estimators=100, n_jobs=1,\n",
       "           oob_score=False, random_state=None, verbose=0, warm_start=False)"
      ]
     },
     "execution_count": 69,
     "metadata": {},
     "output_type": "execute_result"
    }
   ],
   "source": [
    "X = df_dummies[df_dummies.keys()[:-1]]\n",
    "y = df_dummies['y_yes']\n",
    "\n",
    "clf.fit(X.values, y.values)"
   ]
  },
  {
   "cell_type": "code",
   "execution_count": 86,
   "metadata": {},
   "outputs": [
    {
     "name": "stdout",
     "output_type": "stream",
     "text": [
      "Average accuracy: 87.56103834668018 %\n"
     ]
    }
   ],
   "source": [
    "from sklearn.model_selection import KFold, cross_val_score\n",
    "k_fold = KFold(n_splits=10)\n",
    "score = cross_val_score(clf, X.values, y.values, cv=k_fold, n_jobs=-1)\n",
    "print('Average accuracy: {} %'.format(np.mean(score)*100))"
   ]
  },
  {
   "cell_type": "code",
   "execution_count": 88,
   "metadata": {},
   "outputs": [
    {
     "name": "stdout",
     "output_type": "stream",
     "text": [
      "[ 0  1  7  2  8 61  4 36 38  6  9 22 28 31 56  5 58 55 18 23 57 39 54 41\n",
      "  3 30 10 27 21 13 60 50 16 14 59 43 25 42 49 33 32 52 26 15 34 11 17 19\n",
      " 48 12 44 47 53 51 45 20 37 40 46 24 29 35]\n",
      "Feature ranking:\n",
      "1. age (0.157193)\n",
      "2. campaign (0.105474)\n",
      "3. euribor3m (0.099224)\n",
      "4. pdays (0.042178)\n",
      "5. nr.employed (0.036069)\n",
      "6. poutcome_success (0.025815)\n",
      "7. emp.var.rate (0.024771)\n",
      "8. housing_no (0.020806)\n",
      "9. housing_yes (0.020413)\n",
      "10. cons.conf.idx (0.019482)\n",
      "11. job_admin. (0.017240)\n",
      "12. marital_married (0.016105)\n",
      "13. education_high.school (0.016049)\n",
      "14. education_university.degree (0.015390)\n",
      "15. day_of_week_thu (0.014988)\n",
      "16. cons.price.idx (0.014791)\n",
      "17. day_of_week_wed (0.014736)\n",
      "18. day_of_week_mon (0.014621)\n",
      "19. job_technician (0.014569)\n",
      "20. marital_single (0.014418)\n",
      "21. day_of_week_tue (0.014360)\n",
      "22. loan_no (0.014146)\n",
      "23. day_of_week_fri (0.013965)\n",
      "24. loan_yes (0.013895)\n",
      "25. previous (0.012619)\n",
      "26. education_professional.course (0.011805)\n",
      "27. job_blue-collar (0.011328)\n",
      "28. education_basic.9y (0.010960)\n",
      "29. marital_divorced (0.010924)\n",
      "30. job_management (0.009399)\n",
      "31. poutcome_nonexistent (0.009383)\n",
      "32. month_may (0.008993)\n",
      "33. job_services (0.008717)\n",
      "34. job_retired (0.008349)\n",
      "35. poutcome_failure (0.008329)\n",
      "36. contact_telephone (0.008289)\n",
      "37. education_basic.4y (0.008249)\n",
      "38. contact_cellular (0.008061)\n",
      "39. month_mar (0.007534)\n",
      "40. default_no (0.007383)\n",
      "41. education_unknown (0.007174)\n",
      "42. month_oct (0.007122)\n",
      "43. education_basic.6y (0.006713)\n",
      "44. job_self-employed (0.006401)\n",
      "45. default_unknown (0.006379)\n",
      "46. job_entrepreneur (0.005787)\n",
      "47. job_student (0.005725)\n",
      "48. job_unemployed (0.005542)\n",
      "49. month_jun (0.005305)\n",
      "50. job_housemaid (0.004526)\n",
      "51. month_apr (0.004343)\n",
      "52. month_jul (0.003719)\n",
      "53. month_sep (0.003599)\n",
      "54. month_nov (0.003509)\n",
      "55. month_aug (0.003134)\n",
      "56. job_unknown (0.002570)\n",
      "57. housing_unknown (0.002479)\n",
      "58. loan_unknown (0.002477)\n",
      "59. month_dec (0.001384)\n",
      "60. marital_unknown (0.000851)\n",
      "61. education_illiterate (0.000242)\n",
      "62. default_yes (0.000002)\n"
     ]
    }
   ],
   "source": [
    "# from breast_cancer_dataset lab practice\n",
    "importances = clf.feature_importances_\n",
    "indices = np.argsort(importances)[::-1]\n",
    "print(indices)\n",
    "# Print the feature ranking\n",
    "print(\"Feature ranking:\")\n",
    "\n",
    "for f in range(len(X.keys())):\n",
    "    print(\"%d. %s (%f)\" % (f + 1, df_dummies.keys()[indices[f]],  importances[indices[f]]))"
   ]
  },
  {
   "cell_type": "code",
   "execution_count": 89,
   "metadata": {},
   "outputs": [],
   "source": [
    "# from breast_cancer_dataset lab practice\n",
    "import itertools\n",
    "def plot_confusion_matrix(cm, classes,\n",
    "                          normalize=False,\n",
    "                          title='Confusion matrix',\n",
    "                          cmap=plt.cm.Blues):\n",
    "    \"\"\"\n",
    "    This function prints and plots the confusion matrix.\n",
    "    Normalization can be applied by setting `normalize=True`.\n",
    "    \"\"\"\n",
    "    plt.imshow(cm, interpolation='nearest', cmap=cmap)\n",
    "    plt.title(title)\n",
    "    plt.colorbar()\n",
    "    tick_marks = np.arange(len(classes))\n",
    "    plt.xticks(tick_marks, classes, rotation=45)\n",
    "    plt.yticks(tick_marks, classes)\n",
    "\n",
    "    if normalize:\n",
    "        cm = cm.astype('float') / cm.sum(axis=1)[:, np.newaxis]\n",
    "        print(\"Normalized confusion matrix\")\n",
    "    else:\n",
    "        print('Confusion matrix, without normalization')\n",
    "\n",
    "    thresh = cm.max() / 2.\n",
    "    for i, j in itertools.product(range(cm.shape[0]), range(cm.shape[1])):\n",
    "        t = \"(%.2f)\"%(cm[i, j])\n",
    "        #print t\n",
    "#         plt.text(j, i, t,\n",
    "#                  horizontalalignment=\"center\",\n",
    "#                  color=\"white\" if cm[i, j] > thresh else \"black\")\n",
    "\n",
    "    plt.tight_layout()\n",
    "    plt.ylabel('True label')\n",
    "    plt.xlabel('Predicted label')"
   ]
  },
  {
   "cell_type": "code",
   "execution_count": 90,
   "metadata": {},
   "outputs": [
    {
     "name": "stdout",
     "output_type": "stream",
     "text": [
      "Confusion matrix, without normalization\n"
     ]
    },
    {
     "data": {
      "image/png": "[encoded data removed]",
      "text/plain": [
       "<Figure size 432x288 with 2 Axes>"
      ]
     },
     "metadata": {},
     "output_type": "display_data"
    }
   ],
   "source": [
    "from sklearn.metrics import confusion_matrix\n",
    "y_pred = clf.predict(X)\n",
    "cnf_matrix = confusion_matrix(y, y_pred)\n",
    "np.set_printoptions(precision=2)\n",
    "\n",
    "# Plot non-normalized confusion matrix\n",
    "plt.figure()\n",
    "plot_confusion_matrix(cnf_matrix, classes=range(len(set(y))), normalize = False,\n",
    "                      title='Confusion matrix')"
   ]
  },
  {
   "cell_type": "code",
   "execution_count": null,
   "metadata": {},
   "outputs": [],
   "source": []
  }
 ],
 "metadata": {
  "kernelspec": {
   "display_name": "Python 3",
   "language": "python",
   "name": "python3"
  },
  "language_info": {
   "codemirror_mode": {
    "name": "ipython",
    "version": 3
   },
   "file_extension": ".py",
   "mimetype": "text/x-python",
   "name": "python",
   "nbconvert_exporter": "python",
   "pygments_lexer": "ipython3",
   "version": "3.6.5"
  }
 },
 "nbformat": 4,
 "nbformat_minor": 2
}
